{
 "cells": [
  {
   "cell_type": "markdown",
   "metadata": {},
   "source": [
    "# Multimodal LLaMA 3.2 90B Vision Notebook\n",
    "## Introduction\n",
    "This notebook demonstrates the use of the LLaMA 3.2 90B Vision model for image analysis and information extraction. It uses the OpenAI API to interact with the model and process images.\n",
    "### Setup and Imports\n",
    "First, we load environment variables and import necessary libraries:"
   ]
  },
  {
   "cell_type": "code",
   "execution_count": 15,
   "metadata": {},
   "outputs": [
    {
     "data": {
      "text/plain": [
       "True"
      ]
     },
     "execution_count": 15,
     "metadata": {},
     "output_type": "execute_result"
    }
   ],
   "source": [
    "from openai import OpenAI\n",
    "from IPython.display import Image, display, Audio, Markdown\n",
    "import base64\n",
    "import os\n",
    "from dotenv import load_dotenv\n",
    "load_dotenv()"
   ]
  },
  {
   "cell_type": "markdown",
   "metadata": {},
   "source": [
    "### Downloading Sample Images\n",
    "We download two sample images for analysis:"
   ]
  },
  {
   "cell_type": "code",
   "execution_count": 2,
   "metadata": {},
   "outputs": [
    {
     "name": "stdout",
     "output_type": "stream",
     "text": [
      "--2024-09-26 16:58:00--  https://www.everestgrp.com/wp-content/uploads/2020/05/Global-Services-Revenue-and-Growth-%E2%80%93-2016-through-2020E.png\n",
      "Resolving www.everestgrp.com (www.everestgrp.com)... 172.67.167.41, 104.21.35.9\n",
      "Connecting to www.everestgrp.com (www.everestgrp.com)|172.67.167.41|:443... connected.\n",
      "HTTP request sent, awaiting response... 200 OK\n",
      "Length: 40996 (40K) [image/png]\n",
      "Saving to: ‘Global-Services-Revenue-and-Growth-–-2016-through-2020E.png’\n",
      "\n",
      "Global-Services-Rev 100%[===================>]  40.04K  --.-KB/s    in 0.004s  \n",
      "\n",
      "2024-09-26 16:58:02 (9.78 MB/s) - ‘Global-Services-Revenue-and-Growth-–-2016-through-2020E.png’ saved [40996/40996]\n",
      "\n"
     ]
    }
   ],
   "source": [
    "!wget https://www.everestgrp.com/wp-content/uploads/2020/05/Global-Services-Revenue-and-Growth-%E2%80%93-2016-through-2020E.png"
   ]
  },
  {
   "cell_type": "code",
   "execution_count": 3,
   "metadata": {},
   "outputs": [
    {
     "name": "stdout",
     "output_type": "stream",
     "text": [
      "--2024-09-26 16:58:31--  https://www.everestgrp.com/wp-content/uploads/2019/06/5-key-levers-to-an-effective-applications-strategy.png\n",
      "Resolving www.everestgrp.com (www.everestgrp.com)... 172.67.167.41, 104.21.35.9\n",
      "Connecting to www.everestgrp.com (www.everestgrp.com)|172.67.167.41|:443... connected.\n",
      "HTTP request sent, awaiting response... 200 OK\n",
      "Length: 69391 (68K) [image/png]\n",
      "Saving to: ‘5-key-levers-to-an-effective-applications-strategy.png’\n",
      "\n",
      "5-key-levers-to-an- 100%[===================>]  67.76K  --.-KB/s    in 0.005s  \n",
      "\n",
      "2024-09-26 16:58:33 (14.3 MB/s) - ‘5-key-levers-to-an-effective-applications-strategy.png’ saved [69391/69391]\n",
      "\n"
     ]
    }
   ],
   "source": [
    "!wget https://www.everestgrp.com/wp-content/uploads/2019/06/5-key-levers-to-an-effective-applications-strategy.png"
   ]
  },
  {
   "cell_type": "markdown",
   "metadata": {},
   "source": [
    "### Helper Functions\n",
    "We define a helper function to encode images as base64 strings:"
   ]
  },
  {
   "cell_type": "code",
   "execution_count": 5,
   "metadata": {},
   "outputs": [],
   "source": [
    "# Open the image file and encode it as a base64 string\n",
    "def encode_image(image_path):\n",
    "    with open(image_path, \"rb\") as image_file:\n",
    "        return base64.b64encode(image_file.read()).decode(\"utf-8\")"
   ]
  },
  {
   "cell_type": "markdown",
   "metadata": {},
   "source": [
    "### Setting Up the OpenAI Client for LLAMA3.2-90B\n",
    "We initialize the OpenAI client with the appropriate API key and model:"
   ]
  },
  {
   "cell_type": "code",
   "execution_count": null,
   "metadata": {},
   "outputs": [],
   "source": [
    "client = OpenAI(\n",
    "  base_url = \"https://ai.api.nvidia.com/v1/gr/meta/llama-3.2-90b-vision-instruct\",\n",
    "  api_key = os.environ[\"NVIDIA_KEY\"]\n",
    ")\n",
    "\n",
    "MODEL = \"meta/llama-3.2-90b-vision-instruct\""
   ]
  },
  {
   "cell_type": "markdown",
   "metadata": {},
   "source": [
    "### Image Analysis Function\n",
    "We define a function to analyze images using the LLaMA 3.2 90B Vision model:"
   ]
  },
  {
   "cell_type": "code",
   "execution_count": 6,
   "metadata": {},
   "outputs": [],
   "source": [
    "SYSTEM_PROMPT = \"You are a helpful assistant that responds in Markdown. Help me with Given Image Extraction with Given Details with Different categories!\"\n",
    "USER_PROMPT = \"\"\"\n",
    "Retreive All the information given in the image, Including Figure, Title Graphs.\n",
    "\"\"\"\n",
    "\n",
    "def get_genrated_date(IMAGE_PATH):\n",
    "    base64_image = encode_image(IMAGE_PATH)\n",
    "\n",
    "    response = client.chat.completions.create(\n",
    "        model=MODEL,\n",
    "        messages=[\n",
    "            {\"role\": \"system\", \"content\": SYSTEM_PROMPT},\n",
    "            {\"role\": \"user\", \"content\": [\n",
    "                {\"type\": \"text\", \"text\": USER_PROMPT},\n",
    "                {\"type\": \"image_url\", \"image_url\": {\n",
    "                    \"url\": f\"data:image/png;base64,{base64_image}\"}\n",
    "                }\n",
    "            ]}\n",
    "        ],\n",
    "        temperature=0.0,\n",
    "    )\n",
    "\n",
    "    return response.choices[0].message.content"
   ]
  },
  {
   "cell_type": "markdown",
   "metadata": {},
   "source": [
    "### Analyzing Images\n",
    "We analyze two images using the LLaMA 3.2 90B Vision model:\n",
    "\n",
    "Image 1: 5 Key Levers to an Effective Applications Strategy"
   ]
  },
  {
   "cell_type": "code",
   "execution_count": 18,
   "metadata": {},
   "outputs": [
    {
     "name": "stdout",
     "output_type": "stream",
     "text": [
      "CPU times: user 8.43 ms, sys: 0 ns, total: 8.43 ms\n",
      "Wall time: 18.5 s\n"
     ]
    },
    {
     "data": {
      "text/markdown": [
       "The image presents a flowchart titled \"5 key levers to an effective applications strategy.\" The flowchart is divided into five sections, each representing a key lever. The sections are connected by lines and arrows, indicating the relationships between them.\n",
       "\n",
       "**Key Levers:**\n",
       "\n",
       "1. **Alignment of business and IT objectives**: This section is represented by a red circle with a white icon of three interconnected circles. It is connected to the next section by a red line.\n",
       "2. **Balanced investment in legacy and new**: This section is represented by a blue circle with a white icon of a scale. It is connected to the next section by a blue line.\n",
       "3. **Outcome-oriented organization structure**: This section is represented by an orange circle with a white icon of two people. It is connected to the next section by an orange line.\n",
       "4. **Robust talent strategy for legacy and new**: This section is represented by a dark blue circle with a white icon of three people. It is connected to the next section by a dark blue line.\n",
       "5. **Investment in strategic automation**: This section is represented by a light blue circle with a white icon of a gear. It is connected to the first section by a light blue line, forming a loop.\n",
       "\n",
       "**Additional Elements:**\n",
       "\n",
       "* A large circle on the left side of the image contains the text \"Key levers of an effective applications strategy\" in black font.\n",
       "* A logo in the bottom-left corner reads \"Everest Group\" in blue font, with a tagline \"Business Transformation: A Confluence of New and Legacy Applications - Annual Report 2019\" in smaller black font.\n",
       "\n",
       "Overall, the image presents a clear and concise visual representation of the five key levers to an effective applications strategy, highlighting their interconnectedness and importance in achieving business success."
      ],
      "text/plain": [
       "<IPython.core.display.Markdown object>"
      ]
     },
     "execution_count": 18,
     "metadata": {},
     "output_type": "execute_result"
    }
   ],
   "source": [
    "%%time\n",
    "\n",
    "Markdown(get_genrated_date(\"5-key-levers-to-an-effective-applications-strategy.png\"))"
   ]
  },
  {
   "cell_type": "markdown",
   "metadata": {},
   "source": [
    "Image 2: Global Services Revenue and Growth"
   ]
  },
  {
   "cell_type": "code",
   "execution_count": 17,
   "metadata": {},
   "outputs": [
    {
     "name": "stdout",
     "output_type": "stream",
     "text": [
      "CPU times: user 10.1 ms, sys: 0 ns, total: 10.1 ms\n",
      "Wall time: 23.1 s\n"
     ]
    },
    {
     "data": {
      "text/markdown": [
       "The image presents a comprehensive overview of the global services market, focusing on revenue and growth trends from 2016 to 2020. The title, \"Global Services Revenue and Growth - 2016 through 2020E*,\" sets the stage for an in-depth analysis of the industry's performance during this period.\n",
       "\n",
       "**Key Findings:**\n",
       "\n",
       "*   **Revenue Growth:** The global services market experienced a slight decline in revenue growth in 2019 compared to 2018, with a trend expected to continue into 2020 due to the COVID-19 outbreak.\n",
       "*   **Compound Annual Growth Rate (CAGR):** The CAGR for the global services market from 2016 to 2019 was approximately 3%, indicating a moderate growth rate during this period.\n",
       "*   **Segmentation:** The market is segmented into various categories, including location portfolios evolving to nearshoring and onshoring, transforming sourcing models, evolving mix of services delivered, and shift of delivery into digital and engineering/R&D services.\n",
       "*   **Growth Drivers:** The growth drivers for the global services market include the increasing demand for digital transformation, the need for cost savings, and the growing importance of innovation and R&D.\n",
       "\n",
       "**Visual Representation:**\n",
       "\n",
       "The image features a bar graph that illustrates the revenue growth of the global services market from 2016 to 2020. The graph shows a steady increase in revenue from 2016 to 2018, followed by a slight decline in 2019. The projected revenue for 2020 is expected to be lower than in 2019, reflecting the impact of the COVID-19 pandemic on the industry.\n",
       "\n",
       "**Conclusion:**\n",
       "\n",
       "In conclusion, the image provides a detailed analysis of the global services market's revenue and growth trends from 2016 to 2020. The data suggests that the market experienced a moderate growth rate during this period, driven by factors such as digital transformation, cost savings, and innovation. However, the COVID-19 pandemic has had a significant impact on the industry, leading to a decline in revenue growth in 2019 and a projected decrease in 2020. Overall, the image provides valuable insights into the global services market's performance and trends, highlighting the need for businesses to adapt to changing market conditions and invest in digital transformation and innovation to remain competitive."
      ],
      "text/plain": [
       "<IPython.core.display.Markdown object>"
      ]
     },
     "execution_count": 17,
     "metadata": {},
     "output_type": "execute_result"
    }
   ],
   "source": [
    "%%time\n",
    "\n",
    "Markdown(get_genrated_date(\"Global-Services-Revenue-and-Growth-–-2016-through-2020E.png\"))"
   ]
  },
  {
   "cell_type": "markdown",
   "metadata": {},
   "source": [
    "### Comparison with GPT-4 Vision\n",
    "The notebook also includes a comparison with GPT-4 Vision, using the same images:"
   ]
  },
  {
   "cell_type": "code",
   "execution_count": 13,
   "metadata": {},
   "outputs": [],
   "source": [
    "## Set the API key and model name\n",
    "MODEL=\"gpt-4o\"\n",
    "\n",
    "client = OpenAI(api_key=os.environ[\"OPENAI_KEY\"])"
   ]
  },
  {
   "cell_type": "code",
   "execution_count": 8,
   "metadata": {},
   "outputs": [
    {
     "name": "stdout",
     "output_type": "stream",
     "text": [
      "CPU times: user 14 ms, sys: 0 ns, total: 14 ms\n",
      "Wall time: 5.57 s\n"
     ]
    },
    {
     "data": {
      "text/markdown": [
       "```markdown\n",
       "# 5 Key Levers to an Effective Applications Strategy\n",
       "\n",
       "## Key Levers of an Effective Applications Strategy\n",
       "\n",
       "1. **Alignment of business and IT objectives**\n",
       "   - ![Alignment of business and IT objectives](https://via.placeholder.com/15/FF0000/000000?text=+)\n",
       "\n",
       "2. **Balanced investment in legacy and new**\n",
       "   - ![Balanced investment in legacy and new](https://via.placeholder.com/15/00BFFF/000000?text=+)\n",
       "\n",
       "3. **Outcome-oriented organization structure**\n",
       "   - ![Outcome-oriented organization structure](https://via.placeholder.com/15/FFA500/000000?text=+)\n",
       "\n",
       "4. **Robust talent strategy for legacy and new**\n",
       "   - ![Robust talent strategy for legacy and new](https://via.placeholder.com/15/4682B4/000000?text=+)\n",
       "\n",
       "5. **Investment in strategic automation**\n",
       "   - ![Investment in strategic automation](https://via.placeholder.com/15/1E90FF/000000?text=+)\n",
       "\n",
       "---\n",
       "\n",
       "**Source:** Everest Group® Business Transformation: A Confluence of New and Legacy Applications – Annual Report 2019\n",
       "```\n",
       "\n",
       "Note: The placeholder images are used to represent the icons and colors in the original image."
      ],
      "text/plain": [
       "<IPython.core.display.Markdown object>"
      ]
     },
     "execution_count": 8,
     "metadata": {},
     "output_type": "execute_result"
    }
   ],
   "source": [
    "%%time\n",
    "\n",
    "Markdown(get_genrated_date(\"5-key-levers-to-an-effective-applications-strategy.png\"))"
   ]
  },
  {
   "cell_type": "code",
   "execution_count": 9,
   "metadata": {},
   "outputs": [
    {
     "name": "stdout",
     "output_type": "stream",
     "text": [
      "CPU times: user 2.2 ms, sys: 7.83 ms, total: 10 ms\n",
      "Wall time: 6.72 s\n"
     ]
    },
    {
     "data": {
      "text/markdown": [
       "```markdown\n",
       "# Global Services Revenue and Growth – 2016 through 2020E*\n",
       "\n",
       "The global services market had slightly lower revenue growth in 2019 than 2018, a trend we expect to continue given the COVID-19 outbreak in 2020.\n",
       "\n",
       "## Global services revenue and growth, 2016-20(E)\n",
       "**US$ billion**\n",
       "\n",
       "- **2016**: 173-178 (6%-8% growth)\n",
       "- **2017**: 185-190 (6%-8% growth)\n",
       "- **2018**: 194-199 (5%-7% growth)\n",
       "- **2019**: 209-214 (4%-6% growth)\n",
       "- **2020E**: 219-224\n",
       "\n",
       "## Compound annual growth in key parameters, 2016-19\n",
       "**% of total**\n",
       "\n",
       "- **Center setup activity**\n",
       "  - 2016-18: 8-10%\n",
       "  - 2018-19: ~3%\n",
       "- **Headcount in global services**\n",
       "  - 2016-18: 8-10%\n",
       "  - 2018-19: 5-7%\n",
       "\n",
       "## Key emerging trends in global services\n",
       "\n",
       "- **Location portfolios evolving to nearshoring and onshoring**\n",
       "- **Transforming sourcing models**\n",
       "- **Evolving mix of services delivered**\n",
       "- **Shift of delivery into digital and engineering/R&D services**\n",
       "\n",
       "---\n",
       "\n",
       "*Estimated\n",
       "\n",
       "**Note**: Includes global services exports for offshore/nearshore locations; excludes domestic market.\n",
       "\n",
       "---\n",
       "\n",
       "**Everest Group** © Global Locations State of the Market 2020: Moving Forward in Turbulent Times\n",
       "```\n"
      ],
      "text/plain": [
       "<IPython.core.display.Markdown object>"
      ]
     },
     "execution_count": 9,
     "metadata": {},
     "output_type": "execute_result"
    }
   ],
   "source": [
    "%%time\n",
    "\n",
    "Markdown(get_genrated_date(\"Global-Services-Revenue-and-Growth-–-2016-through-2020E.png\"))"
   ]
  },
  {
   "cell_type": "markdown",
   "metadata": {},
   "source": [
    "## Conclusion\n",
    "This notebook demonstrates the capabilities of the LLaMA 3.2 90B Vision model in extracting information from images and compares its performance with GPT-4 Vision. The results show that both models can effectively analyze and describe the content of complex infographics and charts."
   ]
  },
  {
   "cell_type": "code",
   "execution_count": null,
   "metadata": {},
   "outputs": [],
   "source": []
  }
 ],
 "metadata": {
  "kernelspec": {
   "display_name": "base",
   "language": "python",
   "name": "python3"
  },
  "language_info": {
   "codemirror_mode": {
    "name": "ipython",
    "version": 3
   },
   "file_extension": ".py",
   "mimetype": "text/x-python",
   "name": "python",
   "nbconvert_exporter": "python",
   "pygments_lexer": "ipython3",
   "version": "3.10.13"
  }
 },
 "nbformat": 4,
 "nbformat_minor": 2
}
